{
 "cells": [
  {
   "cell_type": "code",
   "execution_count": 26,
   "id": "02d87b9e",
   "metadata": {},
   "outputs": [],
   "source": [
    "import os\n",
    "import cv2\n",
    "\n",
    "# Define the paths for the ground truth and mask directories\n",
    "gt_path = 'ground_truth'\n",
    "mask_path = 'ground_mask'\n",
    "\n",
    " \n",
    "\n",
    "# Loop through each image in the ground truth directory\n",
    "for filename in os.listdir(gt_path):\n",
    "    # Read in the image\n",
    "    img = cv2.imread(os.path.join(gt_path, filename))\n",
    "\n",
    "    # Convert the image to grayscale\n",
    "    gray = cv2.cvtColor(img, cv2.COLOR_BGR2GRAY)\n",
    "\n",
    "    # Apply binary thresholding to create the mask\n",
    "    ret, thresh = cv2.threshold(gray, 0, 255, cv2.THRESH_BINARY)\n",
    "\n",
    "    # Save the mask image\n",
    "    mask_filename = os.path.splitext(filename)[0] + '_mask.png'\n",
    "    cv2.imwrite(os.path.join(mask_path, mask_filename), thresh)\n"
   ]
  }
 ],
 "metadata": {
  "kernelspec": {
   "display_name": "Python 3",
   "language": "python",
   "name": "python3"
  },
  "language_info": {
   "codemirror_mode": {
    "name": "ipython",
    "version": 3
   },
   "file_extension": ".py",
   "mimetype": "text/x-python",
   "name": "python",
   "nbconvert_exporter": "python",
   "pygments_lexer": "ipython3",
   "version": "3.7.10"
  }
 },
 "nbformat": 4,
 "nbformat_minor": 5
}
